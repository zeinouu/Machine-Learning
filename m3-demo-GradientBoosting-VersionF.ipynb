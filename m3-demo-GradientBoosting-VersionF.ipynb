{
 "cells": [
  {
   "cell_type": "code",
   "execution_count": 1,
   "id": "aab669a3",
   "metadata": {},
   "outputs": [],
   "source": [
    "import pandas as pd "
   ]
  },
  {
   "cell_type": "code",
   "execution_count": 2,
   "id": "66ee9780",
   "metadata": {},
   "outputs": [
    {
     "name": "stdout",
     "output_type": "stream",
     "text": [
      "2.0.3\n"
     ]
    }
   ],
   "source": [
    "print(pd.__version__)"
   ]
  },
  {
   "cell_type": "code",
   "execution_count": 4,
   "id": "b89be9ee",
   "metadata": {
    "scrolled": true
   },
   "outputs": [
    {
     "data": {
      "text/html": [
       "<div>\n",
       "<style scoped>\n",
       "    .dataframe tbody tr th:only-of-type {\n",
       "        vertical-align: middle;\n",
       "    }\n",
       "\n",
       "    .dataframe tbody tr th {\n",
       "        vertical-align: top;\n",
       "    }\n",
       "\n",
       "    .dataframe thead th {\n",
       "        text-align: right;\n",
       "    }\n",
       "</style>\n",
       "<table border=\"1\" class=\"dataframe\">\n",
       "  <thead>\n",
       "    <tr style=\"text-align: right;\">\n",
       "      <th></th>\n",
       "      <th>3</th>\n",
       "      <th>?</th>\n",
       "      <th>alfa-romero</th>\n",
       "      <th>gas</th>\n",
       "      <th>std</th>\n",
       "      <th>two</th>\n",
       "      <th>convertible</th>\n",
       "      <th>rwd</th>\n",
       "      <th>front</th>\n",
       "      <th>88.60</th>\n",
       "      <th>...</th>\n",
       "      <th>130</th>\n",
       "      <th>mpfi</th>\n",
       "      <th>3.47</th>\n",
       "      <th>2.68</th>\n",
       "      <th>9.00</th>\n",
       "      <th>111</th>\n",
       "      <th>5000</th>\n",
       "      <th>21</th>\n",
       "      <th>27</th>\n",
       "      <th>13495</th>\n",
       "    </tr>\n",
       "  </thead>\n",
       "  <tbody>\n",
       "    <tr>\n",
       "      <th>0</th>\n",
       "      <td>3</td>\n",
       "      <td>?</td>\n",
       "      <td>alfa-romero</td>\n",
       "      <td>gas</td>\n",
       "      <td>std</td>\n",
       "      <td>two</td>\n",
       "      <td>convertible</td>\n",
       "      <td>rwd</td>\n",
       "      <td>front</td>\n",
       "      <td>88.6</td>\n",
       "      <td>...</td>\n",
       "      <td>130</td>\n",
       "      <td>mpfi</td>\n",
       "      <td>3.47</td>\n",
       "      <td>2.68</td>\n",
       "      <td>9.0</td>\n",
       "      <td>111</td>\n",
       "      <td>5000</td>\n",
       "      <td>21</td>\n",
       "      <td>27</td>\n",
       "      <td>16500</td>\n",
       "    </tr>\n",
       "    <tr>\n",
       "      <th>1</th>\n",
       "      <td>1</td>\n",
       "      <td>?</td>\n",
       "      <td>alfa-romero</td>\n",
       "      <td>gas</td>\n",
       "      <td>std</td>\n",
       "      <td>two</td>\n",
       "      <td>hatchback</td>\n",
       "      <td>rwd</td>\n",
       "      <td>front</td>\n",
       "      <td>94.5</td>\n",
       "      <td>...</td>\n",
       "      <td>152</td>\n",
       "      <td>mpfi</td>\n",
       "      <td>2.68</td>\n",
       "      <td>3.47</td>\n",
       "      <td>9.0</td>\n",
       "      <td>154</td>\n",
       "      <td>5000</td>\n",
       "      <td>19</td>\n",
       "      <td>26</td>\n",
       "      <td>16500</td>\n",
       "    </tr>\n",
       "    <tr>\n",
       "      <th>2</th>\n",
       "      <td>2</td>\n",
       "      <td>164</td>\n",
       "      <td>audi</td>\n",
       "      <td>gas</td>\n",
       "      <td>std</td>\n",
       "      <td>four</td>\n",
       "      <td>sedan</td>\n",
       "      <td>fwd</td>\n",
       "      <td>front</td>\n",
       "      <td>99.8</td>\n",
       "      <td>...</td>\n",
       "      <td>109</td>\n",
       "      <td>mpfi</td>\n",
       "      <td>3.19</td>\n",
       "      <td>3.40</td>\n",
       "      <td>10.0</td>\n",
       "      <td>102</td>\n",
       "      <td>5500</td>\n",
       "      <td>24</td>\n",
       "      <td>30</td>\n",
       "      <td>13950</td>\n",
       "    </tr>\n",
       "    <tr>\n",
       "      <th>3</th>\n",
       "      <td>2</td>\n",
       "      <td>164</td>\n",
       "      <td>audi</td>\n",
       "      <td>gas</td>\n",
       "      <td>std</td>\n",
       "      <td>four</td>\n",
       "      <td>sedan</td>\n",
       "      <td>4wd</td>\n",
       "      <td>front</td>\n",
       "      <td>99.4</td>\n",
       "      <td>...</td>\n",
       "      <td>136</td>\n",
       "      <td>mpfi</td>\n",
       "      <td>3.19</td>\n",
       "      <td>3.40</td>\n",
       "      <td>8.0</td>\n",
       "      <td>115</td>\n",
       "      <td>5500</td>\n",
       "      <td>18</td>\n",
       "      <td>22</td>\n",
       "      <td>17450</td>\n",
       "    </tr>\n",
       "    <tr>\n",
       "      <th>4</th>\n",
       "      <td>2</td>\n",
       "      <td>?</td>\n",
       "      <td>audi</td>\n",
       "      <td>gas</td>\n",
       "      <td>std</td>\n",
       "      <td>two</td>\n",
       "      <td>sedan</td>\n",
       "      <td>fwd</td>\n",
       "      <td>front</td>\n",
       "      <td>99.8</td>\n",
       "      <td>...</td>\n",
       "      <td>136</td>\n",
       "      <td>mpfi</td>\n",
       "      <td>3.19</td>\n",
       "      <td>3.40</td>\n",
       "      <td>8.5</td>\n",
       "      <td>110</td>\n",
       "      <td>5500</td>\n",
       "      <td>19</td>\n",
       "      <td>25</td>\n",
       "      <td>15250</td>\n",
       "    </tr>\n",
       "    <tr>\n",
       "      <th>...</th>\n",
       "      <td>...</td>\n",
       "      <td>...</td>\n",
       "      <td>...</td>\n",
       "      <td>...</td>\n",
       "      <td>...</td>\n",
       "      <td>...</td>\n",
       "      <td>...</td>\n",
       "      <td>...</td>\n",
       "      <td>...</td>\n",
       "      <td>...</td>\n",
       "      <td>...</td>\n",
       "      <td>...</td>\n",
       "      <td>...</td>\n",
       "      <td>...</td>\n",
       "      <td>...</td>\n",
       "      <td>...</td>\n",
       "      <td>...</td>\n",
       "      <td>...</td>\n",
       "      <td>...</td>\n",
       "      <td>...</td>\n",
       "      <td>...</td>\n",
       "    </tr>\n",
       "    <tr>\n",
       "      <th>199</th>\n",
       "      <td>-1</td>\n",
       "      <td>95</td>\n",
       "      <td>volvo</td>\n",
       "      <td>gas</td>\n",
       "      <td>std</td>\n",
       "      <td>four</td>\n",
       "      <td>sedan</td>\n",
       "      <td>rwd</td>\n",
       "      <td>front</td>\n",
       "      <td>109.1</td>\n",
       "      <td>...</td>\n",
       "      <td>141</td>\n",
       "      <td>mpfi</td>\n",
       "      <td>3.78</td>\n",
       "      <td>3.15</td>\n",
       "      <td>9.5</td>\n",
       "      <td>114</td>\n",
       "      <td>5400</td>\n",
       "      <td>23</td>\n",
       "      <td>28</td>\n",
       "      <td>16845</td>\n",
       "    </tr>\n",
       "    <tr>\n",
       "      <th>200</th>\n",
       "      <td>-1</td>\n",
       "      <td>95</td>\n",
       "      <td>volvo</td>\n",
       "      <td>gas</td>\n",
       "      <td>turbo</td>\n",
       "      <td>four</td>\n",
       "      <td>sedan</td>\n",
       "      <td>rwd</td>\n",
       "      <td>front</td>\n",
       "      <td>109.1</td>\n",
       "      <td>...</td>\n",
       "      <td>141</td>\n",
       "      <td>mpfi</td>\n",
       "      <td>3.78</td>\n",
       "      <td>3.15</td>\n",
       "      <td>8.7</td>\n",
       "      <td>160</td>\n",
       "      <td>5300</td>\n",
       "      <td>19</td>\n",
       "      <td>25</td>\n",
       "      <td>19045</td>\n",
       "    </tr>\n",
       "    <tr>\n",
       "      <th>201</th>\n",
       "      <td>-1</td>\n",
       "      <td>95</td>\n",
       "      <td>volvo</td>\n",
       "      <td>gas</td>\n",
       "      <td>std</td>\n",
       "      <td>four</td>\n",
       "      <td>sedan</td>\n",
       "      <td>rwd</td>\n",
       "      <td>front</td>\n",
       "      <td>109.1</td>\n",
       "      <td>...</td>\n",
       "      <td>173</td>\n",
       "      <td>mpfi</td>\n",
       "      <td>3.58</td>\n",
       "      <td>2.87</td>\n",
       "      <td>8.8</td>\n",
       "      <td>134</td>\n",
       "      <td>5500</td>\n",
       "      <td>18</td>\n",
       "      <td>23</td>\n",
       "      <td>21485</td>\n",
       "    </tr>\n",
       "    <tr>\n",
       "      <th>202</th>\n",
       "      <td>-1</td>\n",
       "      <td>95</td>\n",
       "      <td>volvo</td>\n",
       "      <td>diesel</td>\n",
       "      <td>turbo</td>\n",
       "      <td>four</td>\n",
       "      <td>sedan</td>\n",
       "      <td>rwd</td>\n",
       "      <td>front</td>\n",
       "      <td>109.1</td>\n",
       "      <td>...</td>\n",
       "      <td>145</td>\n",
       "      <td>idi</td>\n",
       "      <td>3.01</td>\n",
       "      <td>3.40</td>\n",
       "      <td>23.0</td>\n",
       "      <td>106</td>\n",
       "      <td>4800</td>\n",
       "      <td>26</td>\n",
       "      <td>27</td>\n",
       "      <td>22470</td>\n",
       "    </tr>\n",
       "    <tr>\n",
       "      <th>203</th>\n",
       "      <td>-1</td>\n",
       "      <td>95</td>\n",
       "      <td>volvo</td>\n",
       "      <td>gas</td>\n",
       "      <td>turbo</td>\n",
       "      <td>four</td>\n",
       "      <td>sedan</td>\n",
       "      <td>rwd</td>\n",
       "      <td>front</td>\n",
       "      <td>109.1</td>\n",
       "      <td>...</td>\n",
       "      <td>141</td>\n",
       "      <td>mpfi</td>\n",
       "      <td>3.78</td>\n",
       "      <td>3.15</td>\n",
       "      <td>9.5</td>\n",
       "      <td>114</td>\n",
       "      <td>5400</td>\n",
       "      <td>19</td>\n",
       "      <td>25</td>\n",
       "      <td>22625</td>\n",
       "    </tr>\n",
       "  </tbody>\n",
       "</table>\n",
       "<p>204 rows × 26 columns</p>\n",
       "</div>"
      ],
      "text/plain": [
       "     3    ?  alfa-romero     gas    std   two  convertible  rwd  front  88.60  \\\n",
       "0    3    ?  alfa-romero     gas    std   two  convertible  rwd  front   88.6   \n",
       "1    1    ?  alfa-romero     gas    std   two    hatchback  rwd  front   94.5   \n",
       "2    2  164         audi     gas    std  four        sedan  fwd  front   99.8   \n",
       "3    2  164         audi     gas    std  four        sedan  4wd  front   99.4   \n",
       "4    2    ?         audi     gas    std   two        sedan  fwd  front   99.8   \n",
       "..  ..  ...          ...     ...    ...   ...          ...  ...    ...    ...   \n",
       "199 -1   95        volvo     gas    std  four        sedan  rwd  front  109.1   \n",
       "200 -1   95        volvo     gas  turbo  four        sedan  rwd  front  109.1   \n",
       "201 -1   95        volvo     gas    std  four        sedan  rwd  front  109.1   \n",
       "202 -1   95        volvo  diesel  turbo  four        sedan  rwd  front  109.1   \n",
       "203 -1   95        volvo     gas  turbo  four        sedan  rwd  front  109.1   \n",
       "\n",
       "     ...  130  mpfi  3.47  2.68  9.00  111  5000  21  27  13495  \n",
       "0    ...  130  mpfi  3.47  2.68   9.0  111  5000  21  27  16500  \n",
       "1    ...  152  mpfi  2.68  3.47   9.0  154  5000  19  26  16500  \n",
       "2    ...  109  mpfi  3.19  3.40  10.0  102  5500  24  30  13950  \n",
       "3    ...  136  mpfi  3.19  3.40   8.0  115  5500  18  22  17450  \n",
       "4    ...  136  mpfi  3.19  3.40   8.5  110  5500  19  25  15250  \n",
       "..   ...  ...   ...   ...   ...   ...  ...   ...  ..  ..    ...  \n",
       "199  ...  141  mpfi  3.78  3.15   9.5  114  5400  23  28  16845  \n",
       "200  ...  141  mpfi  3.78  3.15   8.7  160  5300  19  25  19045  \n",
       "201  ...  173  mpfi  3.58  2.87   8.8  134  5500  18  23  21485  \n",
       "202  ...  145   idi  3.01  3.40  23.0  106  4800  26  27  22470  \n",
       "203  ...  141  mpfi  3.78  3.15   9.5  114  5400  19  25  22625  \n",
       "\n",
       "[204 rows x 26 columns]"
      ]
     },
     "execution_count": 4,
     "metadata": {},
     "output_type": "execute_result"
    }
   ],
   "source": [
    "auto_data = pd.read_csv(\"C:/Users/zhmida/Documents/imports-85.data\", sep=r'\\s*,\\s*', engine='python')\n",
    "auto_data"
   ]
  },
  {
   "cell_type": "code",
   "execution_count": null,
   "id": "2db0e800",
   "metadata": {},
   "outputs": [],
   "source": [
    "import numpy as np\n",
    "\n",
    "auto_data = auto_data.replace('?', np.nan)\n",
    "auto_data.head()"
   ]
  },
  {
   "cell_type": "code",
   "execution_count": null,
   "id": "f9e6989d",
   "metadata": {},
   "outputs": [],
   "source": [
    "\n",
    "auto_data.rename(columns={'?': 'normalized losses'}, inplace=True)"
   ]
  },
  {
   "cell_type": "code",
   "execution_count": null,
   "id": "b5501156",
   "metadata": {},
   "outputs": [],
   "source": [
    "auto_data"
   ]
  },
  {
   "cell_type": "code",
   "execution_count": null,
   "id": "c6f6a864",
   "metadata": {},
   "outputs": [],
   "source": [
    "auto_data.rename(columns={'3': 'symboling'}, inplace=True)"
   ]
  },
  {
   "cell_type": "code",
   "execution_count": null,
   "id": "a8a14984",
   "metadata": {},
   "outputs": [],
   "source": [
    "auto_data.rename(columns={'alfa-romero': 'make'}, inplace=True)"
   ]
  },
  {
   "cell_type": "code",
   "execution_count": null,
   "id": "f120269d",
   "metadata": {},
   "outputs": [],
   "source": [
    "auto_data.rename(columns={'normalized losses': 'normalized-losses'}, inplace=True)"
   ]
  },
  {
   "cell_type": "code",
   "execution_count": null,
   "id": "0c124150",
   "metadata": {},
   "outputs": [],
   "source": [
    "auto_data.rename(columns={'13495': 'price'}, inplace=True)"
   ]
  },
  {
   "cell_type": "code",
   "execution_count": null,
   "id": "4164959f",
   "metadata": {},
   "outputs": [],
   "source": [
    "auto_data.describe()"
   ]
  },
  {
   "cell_type": "code",
   "execution_count": null,
   "id": "ff247f94",
   "metadata": {},
   "outputs": [],
   "source": [
    "auto_data"
   ]
  },
  {
   "cell_type": "code",
   "execution_count": null,
   "id": "a88e0f82",
   "metadata": {},
   "outputs": [],
   "source": [
    "auto_data.describe(include='all')"
   ]
  },
  {
   "cell_type": "code",
   "execution_count": null,
   "id": "be85016f",
   "metadata": {},
   "outputs": [],
   "source": [
    "auto_data.rename(columns={'27': 'highway-mpg'}, inplace=True)"
   ]
  },
  {
   "cell_type": "code",
   "execution_count": null,
   "id": "947ea64e",
   "metadata": {},
   "outputs": [],
   "source": [
    "auto_data.rename(columns={'21': 'city-mpg'}, inplace=True)"
   ]
  },
  {
   "cell_type": "code",
   "execution_count": null,
   "id": "681047ec",
   "metadata": {},
   "outputs": [],
   "source": [
    "auto_data.rename(columns={'5000': 'peak-rpm'}, inplace=True)"
   ]
  },
  {
   "cell_type": "code",
   "execution_count": null,
   "id": "8b225923",
   "metadata": {},
   "outputs": [],
   "source": [
    "auto_data.rename(columns={'111': 'horsepower'}, inplace=True)"
   ]
  },
  {
   "cell_type": "code",
   "execution_count": null,
   "id": "ccad85b1",
   "metadata": {},
   "outputs": [],
   "source": [
    "auto_data.rename(columns={'9.00': 'compression-ratio'}, inplace=True)"
   ]
  },
  {
   "cell_type": "code",
   "execution_count": null,
   "id": "a98cddfd",
   "metadata": {},
   "outputs": [],
   "source": [
    "auto_data.rename(columns={'2.68': 'stroke'}, inplace=True)"
   ]
  },
  {
   "cell_type": "code",
   "execution_count": null,
   "id": "87569c5d",
   "metadata": {},
   "outputs": [],
   "source": [
    "auto_data.rename(columns={'3.47': 'bore'}, inplace=True)"
   ]
  },
  {
   "cell_type": "code",
   "execution_count": null,
   "id": "22705b42",
   "metadata": {},
   "outputs": [],
   "source": [
    "auto_data.rename(columns={'mpfi': 'fuel-system'}, inplace=True)"
   ]
  },
  {
   "cell_type": "code",
   "execution_count": null,
   "id": "c849d5fd",
   "metadata": {},
   "outputs": [],
   "source": [
    "auto_data.rename(columns={'130': 'engine-size'}, inplace=True)"
   ]
  },
  {
   "cell_type": "code",
   "execution_count": null,
   "id": "90f55d55",
   "metadata": {},
   "outputs": [],
   "source": [
    "auto_data.rename(columns={'88.60': 'wheel-base'}, inplace=True)"
   ]
  },
  {
   "cell_type": "code",
   "execution_count": null,
   "id": "c9d120cc",
   "metadata": {},
   "outputs": [],
   "source": [
    "auto_data.rename(columns={'front': 'engine-location'}, inplace=True)"
   ]
  },
  {
   "cell_type": "code",
   "execution_count": null,
   "id": "197d788a",
   "metadata": {},
   "outputs": [],
   "source": [
    "auto_data.rename(columns={'rwd': 'drive-wheels'}, inplace=True)"
   ]
  },
  {
   "cell_type": "code",
   "execution_count": null,
   "id": "133631a5",
   "metadata": {},
   "outputs": [],
   "source": [
    "auto_data.rename(columns={'convertible': 'body-style'}, inplace=True)"
   ]
  },
  {
   "cell_type": "code",
   "execution_count": null,
   "id": "3ca6fefc",
   "metadata": {},
   "outputs": [],
   "source": [
    "auto_data.rename(columns={'two': 'num-of-doors'}, inplace=True)"
   ]
  },
  {
   "cell_type": "code",
   "execution_count": null,
   "id": "d4d3af80",
   "metadata": {},
   "outputs": [],
   "source": [
    "auto_data.rename(columns={'std': 'aspiration'}, inplace=True)"
   ]
  },
  {
   "cell_type": "code",
   "execution_count": null,
   "id": "5e8779f2",
   "metadata": {},
   "outputs": [],
   "source": [
    "auto_data.rename(columns={'gas': 'fuel-type'}, inplace=True)"
   ]
  },
  {
   "cell_type": "code",
   "execution_count": null,
   "id": "f67de01c",
   "metadata": {},
   "outputs": [],
   "source": [
    "auto_data.describe(include='all')"
   ]
  },
  {
   "cell_type": "code",
   "execution_count": null,
   "id": "5fbf1f25",
   "metadata": {},
   "outputs": [],
   "source": [
    "auto_data['price'].describe()"
   ]
  },
  {
   "cell_type": "code",
   "execution_count": null,
   "id": "08c2ae87",
   "metadata": {},
   "outputs": [],
   "source": [
    "auto_data['price'] = pd.to_numeric(auto_data['price'], errors='coerce')"
   ]
  },
  {
   "cell_type": "code",
   "execution_count": null,
   "id": "e61485f8",
   "metadata": {},
   "outputs": [],
   "source": [
    "auto_data['price'].describe()"
   ]
  },
  {
   "cell_type": "code",
   "execution_count": null,
   "id": "80e8a2f3",
   "metadata": {},
   "outputs": [],
   "source": [
    "auto_data = auto_data.drop('normalized-losses', axis=1) # It doesnt determine the price of the car for that reason we will drop the column\n",
    "auto_data.head()"
   ]
  },
  {
   "cell_type": "code",
   "execution_count": null,
   "id": "437d1b33",
   "metadata": {},
   "outputs": [],
   "source": [
    "auto_data.describe()"
   ]
  },
  {
   "cell_type": "code",
   "execution_count": null,
   "id": "8715d03d",
   "metadata": {},
   "outputs": [],
   "source": [
    "auto_data.rename(columns={'168.80': 'length'}, inplace=True)"
   ]
  },
  {
   "cell_type": "code",
   "execution_count": null,
   "id": "6f93ffdc",
   "metadata": {},
   "outputs": [],
   "source": [
    "auto_data.rename(columns={'64.10': 'width'}, inplace=True)"
   ]
  },
  {
   "cell_type": "code",
   "execution_count": null,
   "id": "53c3bb44",
   "metadata": {},
   "outputs": [],
   "source": [
    "auto_data.rename(columns={'48.80': 'height'}, inplace=True)"
   ]
  },
  {
   "cell_type": "code",
   "execution_count": null,
   "id": "fa051a8d",
   "metadata": {},
   "outputs": [],
   "source": [
    "auto_data.rename(columns={'2548': 'curb-weight'}, inplace=True)"
   ]
  },
  {
   "cell_type": "code",
   "execution_count": null,
   "id": "65656961",
   "metadata": {},
   "outputs": [],
   "source": [
    "auto_data.describe()"
   ]
  },
  {
   "cell_type": "code",
   "execution_count": null,
   "id": "4c35a9cc",
   "metadata": {},
   "outputs": [],
   "source": [
    "auto_data['horsepower'] = pd.to_numeric(auto_data['horsepower'], errors='coerce')"
   ]
  },
  {
   "cell_type": "code",
   "execution_count": null,
   "id": "eb4038cd",
   "metadata": {},
   "outputs": [],
   "source": [
    "auto_data['horsepower'].describe()"
   ]
  },
  {
   "cell_type": "code",
   "execution_count": null,
   "id": "b5109a7f",
   "metadata": {},
   "outputs": [],
   "source": [
    "auto_data.describe(include='all')"
   ]
  },
  {
   "cell_type": "code",
   "execution_count": null,
   "id": "d24a63b6",
   "metadata": {},
   "outputs": [],
   "source": [
    "import pandas as pd\n",
    "\n",
    "# Afficher toutes les colonnes du DataFrame\n",
    "pd.set_option('display.max_columns', None)\n",
    "\n",
    "# Exécuter la fonction describe\n",
    "auto_data.describe(include='all')"
   ]
  },
  {
   "cell_type": "code",
   "execution_count": null,
   "id": "8dbd6c6f",
   "metadata": {},
   "outputs": [],
   "source": [
    "auto_data['four'].describe()"
   ]
  },
  {
   "cell_type": "code",
   "execution_count": null,
   "id": "0d31f38d",
   "metadata": {},
   "outputs": [],
   "source": [
    "auto_data.rename(columns={'four': 'num-of-cylinders'}, inplace=True)"
   ]
  },
  {
   "cell_type": "code",
   "execution_count": null,
   "id": "3a1b14d6",
   "metadata": {},
   "outputs": [],
   "source": [
    "auto_data['num-of-cylinders'].describe()"
   ]
  },
  {
   "cell_type": "code",
   "execution_count": null,
   "id": "38c813f2",
   "metadata": {},
   "outputs": [],
   "source": [
    "cylinders_dict = {'two': 2,\n",
    "                 'three': 3,\n",
    "                 'four': 4,\n",
    "                 'five': 5,\n",
    "                 'six': 6,\n",
    "                 'eight': 7,\n",
    "                 'twelve': 12}\n",
    "auto_data['num-of-cylinders'].replace(cylinders_dict, inplace=True)\n",
    "auto_data.head()"
   ]
  },
  {
   "cell_type": "code",
   "execution_count": null,
   "id": "a36f6501",
   "metadata": {},
   "outputs": [],
   "source": [
    "auto_data.info()"
   ]
  },
  {
   "cell_type": "code",
   "execution_count": null,
   "id": "350f4cd1",
   "metadata": {},
   "outputs": [],
   "source": [
    "auto_data.rename(columns={'dohc': 'engine-type'}, inplace=True)"
   ]
  },
  {
   "cell_type": "code",
   "execution_count": null,
   "id": "352ae500",
   "metadata": {},
   "outputs": [],
   "source": [
    "auto_data = pd.get_dummies(auto_data)\n",
    "#                           columns=['make',\n",
    "#                                   'fuel-type',\n",
    "#                                   'aspiration',\n",
    "#                                   'num-of-doors',\n",
    "#                                   'body-style',\n",
    "#                                   'drive-wheels',\n",
    "#                                   'engine-location',\n",
    "#                                   'engine-type',\n",
    "#                                   'fuel-system'])\n",
    "auto_data.head()"
   ]
  },
  {
   "cell_type": "code",
   "execution_count": null,
   "id": "201bc1fc",
   "metadata": {},
   "outputs": [],
   "source": [
    "auto_data.replace({True: 1, False: 0}, inplace=True)\n"
   ]
  },
  {
   "cell_type": "code",
   "execution_count": null,
   "id": "a2fef8a2",
   "metadata": {},
   "outputs": [],
   "source": [
    "auto_data.head()"
   ]
  },
  {
   "cell_type": "code",
   "execution_count": null,
   "id": "afb40109",
   "metadata": {},
   "outputs": [],
   "source": [
    "auto_data[auto_data.isnull().any(axis=1)]"
   ]
  },
  {
   "cell_type": "code",
   "execution_count": null,
   "id": "c992a63d",
   "metadata": {},
   "outputs": [],
   "source": [
    "print(auto_data.isnull().any().any())\n"
   ]
  },
  {
   "cell_type": "code",
   "execution_count": null,
   "id": "4ab75bbc",
   "metadata": {},
   "outputs": [],
   "source": [
    "missing_values = auto_data.isnull().sum()\n",
    "print(missing_values)"
   ]
  },
  {
   "cell_type": "code",
   "execution_count": null,
   "id": "6f975709",
   "metadata": {},
   "outputs": [],
   "source": [
    "nan_values = auto_data.isna().sum()\n",
    "print(nan_values)"
   ]
  },
  {
   "cell_type": "code",
   "execution_count": null,
   "id": "8f709996",
   "metadata": {},
   "outputs": [],
   "source": [
    "print(auto_data.info())\n"
   ]
  },
  {
   "cell_type": "code",
   "execution_count": null,
   "id": "d5a07c0e",
   "metadata": {
    "scrolled": true
   },
   "outputs": [],
   "source": [
    "print(auto_data.select_dtypes(include='object').dtypes)\n"
   ]
  },
  {
   "cell_type": "code",
   "execution_count": null,
   "id": "3d42e41b",
   "metadata": {},
   "outputs": [],
   "source": [
    "from sklearn.model_selection import train_test_split\n",
    "\n",
    "X = auto_data.drop('price', axis=1)\n",
    "# Taking the labels (price)\n",
    "Y = auto_data['price']\n",
    "\n",
    "#Spliting into 80% for training set and 20% for testing set so we can see our accuracy\n",
    "X_train, x_test, Y_train, y_test = train_test_split(X, Y, test_size=0.2, random_state=42)"
   ]
  },
  {
   "cell_type": "code",
   "execution_count": null,
   "id": "74baa870",
   "metadata": {},
   "outputs": [],
   "source": [
    "import numpy as np\n",
    "from sklearn.impute import SimpleImputer\n",
    "\n",
    "# Assuming X_train and Y_train are your training data\n",
    "# Create a SimpleImputer for X_train\n",
    "imputer_X = SimpleImputer(missing_values=np.nan, strategy='mean')\n",
    "X_train_imputed = imputer_X.fit_transform(X_train)\n",
    "\n",
    "# Convert Y_train to a NumPy array and create a SimpleImputer for Y_train (assuming Y_train is a 1D array)\n",
    "Y_train_array = Y_train.values.reshape(-1, 1)\n",
    "imputer_Y = SimpleImputer(missing_values=np.nan, strategy='mean')\n",
    "Y_train_imputed = imputer_Y.fit_transform(Y_train_array).ravel()"
   ]
  },
  {
   "cell_type": "code",
   "execution_count": null,
   "id": "0f3b38f2",
   "metadata": {},
   "outputs": [],
   "source": [
    "from sklearn.ensemble import GradientBoostingRegressor\n",
    "\n",
    "params = {'n_estimators': 500, 'max_depth': 6, 'min_samples_split': 2,\n",
    "         'learning_rate': 0.01, 'loss': 'squared_error'}\n",
    "gbr_model = GradientBoostingRegressor(**params)\n",
    "gbr_model.fit(X_train_imputed , Y_train_imputed)"
   ]
  },
  {
   "cell_type": "code",
   "execution_count": null,
   "id": "7208e7a0",
   "metadata": {},
   "outputs": [],
   "source": [
    "gbr_model.score(X_train_imputed, Y_train_imputed)"
   ]
  },
  {
   "cell_type": "code",
   "execution_count": null,
   "id": "11b92cc0",
   "metadata": {},
   "outputs": [],
   "source": [
    "y_predict = gbr_model.predict(x_test)"
   ]
  },
  {
   "cell_type": "code",
   "execution_count": null,
   "id": "d8aea248",
   "metadata": {},
   "outputs": [],
   "source": [
    "print(\"Shape of X_train:\", X_train_imputed.shape)\n",
    "print(\"Shape of Y_train:\", Y_train_imputed.shape)"
   ]
  },
  {
   "cell_type": "code",
   "execution_count": null,
   "id": "01caf1cd",
   "metadata": {},
   "outputs": [],
   "source": [
    "print(\"Shape of X_train:\", x_test.shape)\n",
    "print(\"Shape of Y_train:\", y_test.shape)"
   ]
  },
  {
   "cell_type": "code",
   "execution_count": null,
   "id": "5deb0f15",
   "metadata": {},
   "outputs": [],
   "source": [
    "%pylab inline \n",
    "pylab.rcParams['figure.figsize'] = (15, 6)\n",
    "\n",
    "plt.plot(x_test, label='Predicted')\n",
    "plt.plot(y_test.values, label='Actual')\n",
    "plt.ylabel('MPG')\n",
    "\n",
    "plt.legend()\n",
    "plt.show()\n"
   ]
  },
  {
   "cell_type": "markdown",
   "id": "b850ded9",
   "metadata": {},
   "source": [
    "Now once our dataset is clean we proceed to training our model"
   ]
  },
  {
   "cell_type": "code",
   "execution_count": null,
   "id": "016ee1e2",
   "metadata": {},
   "outputs": [],
   "source": [
    "auto_data['horsepower'].fillna(auto_data['horsepower'].mean(), inplace=True)\n"
   ]
  },
  {
   "cell_type": "code",
   "execution_count": null,
   "id": "8bbb1379",
   "metadata": {},
   "outputs": [],
   "source": [
    "auto_data[auto_data.isnull().any(axis=1)]"
   ]
  },
  {
   "cell_type": "code",
   "execution_count": null,
   "id": "45d781d8",
   "metadata": {},
   "outputs": [],
   "source": [
    "n_X_train = X_train.dropna(axis=0)"
   ]
  },
  {
   "cell_type": "code",
   "execution_count": null,
   "id": "fbe74291",
   "metadata": {},
   "outputs": [],
   "source": [
    "n_Y_train = Y_train.dropna(axis=0)"
   ]
  },
  {
   "cell_type": "code",
   "execution_count": null,
   "id": "039937ed",
   "metadata": {},
   "outputs": [],
   "source": [
    "print(X_train.isnull().sum().sum())\n"
   ]
  },
  {
   "cell_type": "code",
   "execution_count": null,
   "id": "6f565fd2",
   "metadata": {},
   "outputs": [],
   "source": [
    "auto_data.isnull().sum().sum()"
   ]
  },
  {
   "cell_type": "code",
   "execution_count": null,
   "id": "ad06bb43",
   "metadata": {},
   "outputs": [],
   "source": [
    "print(X_train.columns[X_train.isnull().any()])"
   ]
  },
  {
   "cell_type": "code",
   "execution_count": null,
   "id": "f0785e91",
   "metadata": {},
   "outputs": [],
   "source": [
    "n_X_train = n_X_train.iloc[:160, :]  # Select the first 160 rows\n",
    "n_Y_train = n_Y_train.iloc[:160]"
   ]
  },
  {
   "cell_type": "code",
   "execution_count": null,
   "id": "e4b6df87",
   "metadata": {},
   "outputs": [],
   "source": [
    "print(\"Number of samples in n_X_train:\", len(n_X_train))\n",
    "print(\"Number of samples in n_Y_train:\", len(n_Y_train))\n"
   ]
  },
  {
   "cell_type": "code",
   "execution_count": null,
   "id": "dd80f6b0",
   "metadata": {},
   "outputs": [],
   "source": [
    "from sklearn.ensemble import GradientBoostingRegressor\n",
    "\n",
    "params = {'n_estimators': 500, 'max_depth': 6, 'min_samples_split': 2,\n",
    "         'learning_rate': 0.01, 'loss': 'squared_error'}\n",
    "gbr_model = GradientBoostingRegressor(**params)\n",
    "gbr_model.fit(n_X_train , n_Y_train)"
   ]
  },
  {
   "cell_type": "code",
   "execution_count": null,
   "id": "64a5d2aa",
   "metadata": {},
   "outputs": [],
   "source": [
    "print(X_train.columns[n_X_train.isnull().any()])"
   ]
  },
  {
   "cell_type": "code",
   "execution_count": null,
   "id": "cf5b6757",
   "metadata": {},
   "outputs": [],
   "source": [
    "nan_values = auto_data.isna().sum()\n",
    "print(nan_values)"
   ]
  },
  {
   "cell_type": "code",
   "execution_count": null,
   "id": "eda3a4ca",
   "metadata": {},
   "outputs": [],
   "source": [
    "print(n_X_train.isnull().sum().sum())"
   ]
  },
  {
   "cell_type": "code",
   "execution_count": null,
   "id": "d9dd3918",
   "metadata": {},
   "outputs": [],
   "source": [
    "print(n_Y_train.isnull().sum().sum())"
   ]
  },
  {
   "cell_type": "code",
   "execution_count": null,
   "id": "535a8cb0",
   "metadata": {},
   "outputs": [],
   "source": [
    "print(\"Shape of X_train:\", n_X_train.shape)\n",
    "print(\"Shape of Y_train:\", n_Y_train.shape)"
   ]
  },
  {
   "cell_type": "code",
   "execution_count": null,
   "id": "519d823f",
   "metadata": {},
   "outputs": [],
   "source": [
    "from sklearn.model_selection import train_test_split\n",
    "\n",
    "X = auto_data.drop('price', axis=1)\n",
    "# Taking the labels (price)\n",
    "Y = auto_data['price']\n",
    "\n",
    "#Spliting into 80% for training set and 20% for testing set so we can see our accuracy\n",
    "n_X_train, x_test, n_Y_train, y_test = train_test_split(X, Y, test_size=0.2, random_state=42)"
   ]
  },
  {
   "cell_type": "code",
   "execution_count": null,
   "id": "0a8ac95e",
   "metadata": {},
   "outputs": [],
   "source": [
    "from sklearn.ensemble import GradientBoostingRegressor\n",
    "\n",
    "params = {'n_estimators': 500, 'max_depth': 6, 'min_samples_split': 2,\n",
    "         'learning_rate': 0.01, 'loss': 'squared_error'}\n",
    "gbr_model = GradientBoostingRegressor(**params)\n",
    "gbr_model.fit(n_X_train , n_Y_train)"
   ]
  },
  {
   "cell_type": "code",
   "execution_count": null,
   "id": "5de1ccac",
   "metadata": {},
   "outputs": [],
   "source": [
    "gbr_model.score(n_X_train, n_Y_train)"
   ]
  },
  {
   "cell_type": "code",
   "execution_count": null,
   "id": "c350f84e",
   "metadata": {},
   "outputs": [],
   "source": [
    "x_test = gbr_model.predict(x_test) \n",
    "print(x_test)"
   ]
  },
  {
   "cell_type": "markdown",
   "id": "dc07d242",
   "metadata": {},
   "source": [
    "Now we will plot a matplotlib graph of the predicted y values against the actual y values.\n"
   ]
  },
  {
   "cell_type": "code",
   "execution_count": null,
   "id": "beddf6d1",
   "metadata": {},
   "outputs": [],
   "source": [
    "%pylab inline \n",
    "pylab.rcParams['figure.figsize'] = (15, 6)\n",
    "\n",
    "plt.plot(x_test, label='Predicted')\n",
    "plt.plot(y_test.values, label='Actual')\n",
    "plt.ylabel('MPG')\n",
    "\n",
    "plt.legend()\n",
    "plt.show()\n"
   ]
  },
  {
   "cell_type": "code",
   "execution_count": null,
   "id": "62a18e7c",
   "metadata": {},
   "outputs": [],
   "source": [
    "n_X_test = x_test.reshape(-1, 1)[:38, :]  # Reshape and select the first 40 rows\n",
    "n_Y_test = y_test[:40]"
   ]
  },
  {
   "cell_type": "code",
   "execution_count": null,
   "id": "f96f7b74",
   "metadata": {},
   "outputs": [],
   "source": [
    "from sklearn.metrics import confusion_matrix"
   ]
  },
  {
   "cell_type": "code",
   "execution_count": null,
   "id": "6c248469",
   "metadata": {},
   "outputs": [],
   "source": [
    "r_square = gbr_model.score(n_X_test, n_Y_test)\n",
    "print(r_square)"
   ]
  },
  {
   "cell_type": "code",
   "execution_count": null,
   "id": "94e4a32b",
   "metadata": {},
   "outputs": [],
   "source": [
    "print(\"Shape of X_train:\", x_test.shape)\n",
    "print(\"Shape of Y_train:\", y_test.shape)"
   ]
  },
  {
   "cell_type": "code",
   "execution_count": null,
   "id": "e3444eb0",
   "metadata": {},
   "outputs": [],
   "source": [
    "X = np.array(ct.fit_transform(X), dtype=np.float64)"
   ]
  },
  {
   "cell_type": "code",
   "execution_count": null,
   "id": "3c35e1ac",
   "metadata": {},
   "outputs": [],
   "source": []
  }
 ],
 "metadata": {
  "kernelspec": {
   "display_name": "Python 3 (ipykernel)",
   "language": "python",
   "name": "python3"
  },
  "language_info": {
   "codemirror_mode": {
    "name": "ipython",
    "version": 3
   },
   "file_extension": ".py",
   "mimetype": "text/x-python",
   "name": "python",
   "nbconvert_exporter": "python",
   "pygments_lexer": "ipython3",
   "version": "3.11.5"
  }
 },
 "nbformat": 4,
 "nbformat_minor": 5
}
